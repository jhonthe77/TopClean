{
 "cells": [
  {
   "cell_type": "markdown",
   "metadata": {},
   "source": [
    "Importo los modulos"
   ]
  },
  {
   "cell_type": "code",
   "execution_count": 23,
   "metadata": {},
   "outputs": [],
   "source": [
    "import pandas as pd\n",
    "from validate_email import validate_email\n",
    "import re"
   ]
  },
  {
   "cell_type": "markdown",
   "metadata": {},
   "source": [
    "Cargar de la data"
   ]
  },
  {
   "cell_type": "code",
   "execution_count": 24,
   "metadata": {},
   "outputs": [
    {
     "name": "stderr",
     "output_type": "stream",
     "text": [
      "c:\\Users\\EXISTAYA\\AppData\\Local\\Programs\\Python\\Python310\\lib\\site-packages\\openpyxl\\worksheet\\_reader.py:312: UserWarning: Unknown extension is not supported and will be removed\n",
      "  warn(msg)\n"
     ]
    }
   ],
   "source": [
    "df =pd.read_excel('BD RC Medica.xlsx')"
   ]
  },
  {
   "cell_type": "markdown",
   "metadata": {},
   "source": [
    "Funcion para colocar la primera letra en mayuscula"
   ]
  },
  {
   "cell_type": "code",
   "execution_count": 25,
   "metadata": {},
   "outputs": [],
   "source": [
    "def Primera_l_mayuscula(df1,columna):\n",
    "    lista_columnas = df1.columns\n",
    "    clave=['email','correo','nombre','apellido','ectronico']\n",
    "    for c in clave:\n",
    "        for data in lista_columnas:\n",
    "             if c.lower() in data.lower():\n",
    "               if columna in df1:\n",
    "                   df1[columna] =df1[columna].str.capitalize()\n",
    "                   return df1\n",
    "        else:\n",
    "            print(\"la columna no existe\")\n",
    "            return df1"
   ]
  },
  {
   "cell_type": "markdown",
   "metadata": {},
   "source": [
    "Funcion para validar email"
   ]
  },
  {
   "cell_type": "code",
   "execution_count": 26,
   "metadata": {},
   "outputs": [],
   "source": [
    "def validar_email(df1,columna,nuevacolumn):\n",
    "       if columna in df1:\n",
    "          df1[nuevacolumn] = df1[columna].apply(lambda x:validate_email(x))\n",
    "          df1[columna] = df1[columna].str.lower()\n",
    "          df_correos_malos=df1[df1[nuevacolumn==False]]\n",
    "       return df1,df_correos_malos\n",
    "    "
   ]
  },
  {
   "cell_type": "markdown",
   "metadata": {},
   "source": [
    "Renombrar columnas"
   ]
  },
  {
   "cell_type": "code",
   "execution_count": 27,
   "metadata": {},
   "outputs": [],
   "source": [
    "def Renombrar_columna(df1,columna,nuevacolumn):\n",
    "    if columna in df1:\n",
    "        df1=df1.rename({columna:nuevacolumn},axis=1)\n",
    "        return df1\n",
    "    else:\n",
    "        print(\"la columna no existe\")\n",
    "        return df1"
   ]
  },
  {
   "cell_type": "markdown",
   "metadata": {},
   "source": [
    "Funcion para validar telefono"
   ]
  },
  {
   "cell_type": "code",
   "execution_count": 28,
   "metadata": {},
   "outputs": [],
   "source": [
    "def validar_Telefono(df1,columna):\n",
    "    if columna in df1:\n",
    "      df1[columna]=df1[columna].astype('str')\n",
    "      df1[columna]=df1[columna].str.slice(0,10)#extraer una sub cadena de la coluna\n",
    "      telefono=df1[columna]\n",
    "      patron= input('Ingrese el patron que desea procesar: ')\n",
    "      validar= re.compile(patron)\n",
    "      valido=[]\n",
    "      for t in telefono:\n",
    "          valido.append('si'  if validar.search(t) is not None else 'no')\n",
    "\n",
    "      telef=pd.Series(valido) \n",
    "      df1[columna]=telef \n",
    "      df1[df1.columna=='nan'].replace('nan','')\n",
    "      df1[columna]=df1[columna].replace('nan','')\n",
    "      return df1\n",
    "\n",
    "    else:\n",
    "        print(\"la columna no existe\")\n",
    "        return df1"
   ]
  },
  {
   "cell_type": "markdown",
   "metadata": {},
   "source": [
    "Crear columna nuevas"
   ]
  },
  {
   "cell_type": "code",
   "execution_count": 29,
   "metadata": {},
   "outputs": [],
   "source": [
    "def Crear_columnas(df1):\n",
    "    nombre_columna=[input('Ingrese el nombre de la columna que desea agregar: ')for _ in range(int(input('Ingrese el nuemro de columnas que desea agregar: ')))]\n",
    "    for columna in nombre_columna:\n",
    "        if not columna in df1 :\n",
    "            df1[nombre_columna]=''\n",
    "        return df1                 \n",
    "    else:\n",
    "        print('La columna ya existe')\n",
    "        return df1\n",
    " "
   ]
  },
  {
   "cell_type": "markdown",
   "metadata": {},
   "source": [
    "Eliminar columna y obtener la data borrada"
   ]
  },
  {
   "cell_type": "code",
   "execution_count": 30,
   "metadata": {},
   "outputs": [],
   "source": [
    "def eliminar_columnas(df1):\n",
    "      nombre_columna=[input('Ingrese el nombre de la columna que desea eliminar: ')for _ in range(int(input('Ingrese el nuemro de columnas que desea eliminar: ')))]\n",
    "      for columna in nombre_columna:\n",
    "        if columna in df1 :\n",
    "            columna_eliminadas=df1[columna]\n",
    "            df1.drop([columna], axis=1, inplace=True)\n",
    "        return df1,columna_eliminadas"
   ]
  },
  {
   "cell_type": "code",
   "execution_count": 31,
   "metadata": {},
   "outputs": [
    {
     "data": {
      "text/plain": [
       "0    Autoriza el envio de informacion\n",
       "1    Autoriza el envio de informacion\n",
       "2    Autoriza el envio de informacion\n",
       "3    Autoriza el envio de informacion\n",
       "4    Autoriza el envio de informacion\n",
       "Name: HABEAS, dtype: object"
      ]
     },
     "execution_count": 31,
     "metadata": {},
     "output_type": "execute_result"
    }
   ],
   "source": [
    "df['HABEAS'].head()"
   ]
  }
 ],
 "metadata": {
  "kernelspec": {
   "display_name": "Python 3.10.7 64-bit",
   "language": "python",
   "name": "python3"
  },
  "language_info": {
   "codemirror_mode": {
    "name": "ipython",
    "version": 3
   },
   "file_extension": ".py",
   "mimetype": "text/x-python",
   "name": "python",
   "nbconvert_exporter": "python",
   "pygments_lexer": "ipython3",
   "version": "3.10.7"
  },
  "orig_nbformat": 4,
  "vscode": {
   "interpreter": {
    "hash": "cea226c4b7750e40aefa8376d6e828465c469294218ee874f1be60b6e31bbb46"
   }
  }
 },
 "nbformat": 4,
 "nbformat_minor": 2
}
