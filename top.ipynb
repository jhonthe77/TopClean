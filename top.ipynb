{
 "cells": [
  {
   "cell_type": "markdown",
   "metadata": {},
   "source": [
    "Importo los modulos"
   ]
  },
  {
   "cell_type": "code",
   "execution_count": 148,
   "metadata": {},
   "outputs": [],
   "source": [
    "import pandas as pd\n",
    "from validate_email import validate_email\n",
    "import re"
   ]
  },
  {
   "cell_type": "markdown",
   "metadata": {},
   "source": [
    "Cargar de la data"
   ]
  },
  {
   "cell_type": "code",
   "execution_count": 149,
   "metadata": {},
   "outputs": [],
   "source": [
    "df =pd.read_csv('Maternidad y bebes 2022.xlsx - Copia de LP.csv')"
   ]
  },
  {
   "cell_type": "markdown",
   "metadata": {},
   "source": [
    "Funcion para colocar la primera letra en mayuscula"
   ]
  },
  {
   "cell_type": "code",
   "execution_count": 150,
   "metadata": {},
   "outputs": [],
   "source": [
    "def Primera_l_mayuscula(df1,columna):\n",
    "    if columna in df1:\n",
    "        df1[columna] =df1[columna].str.capitalize()\n",
    "        return df1\n",
    "    else:\n",
    "        print(\"la columna no existe\")\n",
    "        return df1"
   ]
  },
  {
   "cell_type": "markdown",
   "metadata": {},
   "source": [
    "Funcion para validar email"
   ]
  },
  {
   "cell_type": "code",
   "execution_count": 151,
   "metadata": {},
   "outputs": [],
   "source": [
    "def validar_email(df1,columna,nuevacolumn):\n",
    "       if columna in df1:\n",
    "          df1[nuevacolumn] = df1[columna].apply(lambda x:validate_email(x))\n",
    "          df1[columna] = df1[columna].str.lower()\n",
    "          df_correos_malos=df1[df1[nuevacolumn==False]]\n",
    "       return df1,df_correos_malos\n",
    "    "
   ]
  },
  {
   "cell_type": "markdown",
   "metadata": {},
   "source": [
    "Renombrar columnas"
   ]
  },
  {
   "cell_type": "code",
   "execution_count": 152,
   "metadata": {},
   "outputs": [],
   "source": [
    "def Renombrar_columna(df1,columna,nuevacolumn):\n",
    "    if columna in df1:\n",
    "        df1=df1.rename({columna:nuevacolumn},axis=1)\n",
    "        return df1\n",
    "    else:\n",
    "        print(\"la columna no existe\")\n",
    "        return df1"
   ]
  },
  {
   "cell_type": "markdown",
   "metadata": {},
   "source": [
    "Funcion para validar telefono"
   ]
  },
  {
   "cell_type": "code",
   "execution_count": 153,
   "metadata": {},
   "outputs": [],
   "source": [
    "def validar_Telefono(df1,columna):\n",
    "    if columna in df1:\n",
    "      df1[columna]=df1[columna].astype('str')\n",
    "      df1[columna]=df1[columna].str.slice(0,10)#extraer una sub cadena de la coluna\n",
    "      telefono=df1[columna]\n",
    "      patron= '^[3]\\d{9}$'\n",
    "      validar= re.compile(patron)\n",
    "      valido=[]\n",
    "      for t in telefono:\n",
    "          valido.append('si'  if validar.search(t) is not None else 'no')\n",
    "\n",
    "      telef=pd.Series(valido) \n",
    "      df1[columna]=telef \n",
    "      df1[df1.columna=='nan'].replace('nan','')\n",
    "      df1[columna]=df1['celular'].replace('nan','')\n",
    "      return df1\n",
    "\n",
    "    else:\n",
    "        print(\"la columna no existe\")\n",
    "        return df1"
   ]
  },
  {
   "cell_type": "markdown",
   "metadata": {},
   "source": [
    "Obtener las columnas del dataframe"
   ]
  },
  {
   "cell_type": "code",
   "execution_count": 154,
   "metadata": {},
   "outputs": [],
   "source": [
    "def obtener_nombres_columnas(df1):\n",
    "     lista_columnas = df1.columns\n",
    "     return lista_columnas "
   ]
  },
  {
   "cell_type": "markdown",
   "metadata": {},
   "source": [
    "Crear columna nuevas"
   ]
  },
  {
   "cell_type": "code",
   "execution_count": 155,
   "metadata": {},
   "outputs": [],
   "source": [
    "def Crear_columnas(df1):\n",
    "    nombre_columna=[input('Ingrese el nombre de la columna que desea agregar: ')for _ in range(int(input('Ingrese el nuemro de columnas que desea agregar: ')))]\n",
    "    for columna in nombre_columna:\n",
    "        if not columna in df1 :\n",
    "            df1[nombre_columna]=''\n",
    "        return df1                 \n",
    "    else:\n",
    "        print('La columna ya existe')\n",
    "        return df1\n",
    " "
   ]
  },
  {
   "cell_type": "markdown",
   "metadata": {},
   "source": [
    "Eliminar columna y obtener la data borrada"
   ]
  },
  {
   "cell_type": "code",
   "execution_count": 156,
   "metadata": {},
   "outputs": [],
   "source": [
    "def eliminar_columnas(df1):\n",
    "      nombre_columna=[input('Ingrese el nombre de la columna que desea eliminar: ')for _ in range(int(input('Ingrese el nuemro de columnas que desea eliminar: ')))]\n",
    "      for columna in nombre_columna:\n",
    "        if columna in df1 :\n",
    "            columna_eliminadas=df1[columna]\n",
    "            df1.drop([columna], axis=1, inplace=True)\n",
    "        return df1,columna_eliminadas"
   ]
  },
  {
   "cell_type": "code",
   "execution_count": 157,
   "metadata": {},
   "outputs": [],
   "source": [
    "#df=Crear_columnas(df)\n",
    "#df,columnas_eliminadas=eliminar_columnas(df)\n",
    "#columnas_eliminadas\n"
   ]
  },
  {
   "cell_type": "code",
   "execution_count": 159,
   "metadata": {},
   "outputs": [
    {
     "data": {
      "text/html": [
       "<div>\n",
       "<style scoped>\n",
       "    .dataframe tbody tr th:only-of-type {\n",
       "        vertical-align: middle;\n",
       "    }\n",
       "\n",
       "    .dataframe tbody tr th {\n",
       "        vertical-align: top;\n",
       "    }\n",
       "\n",
       "    .dataframe thead th {\n",
       "        text-align: right;\n",
       "    }\n",
       "</style>\n",
       "<table border=\"1\" class=\"dataframe\">\n",
       "  <thead>\n",
       "    <tr style=\"text-align: right;\">\n",
       "      <th></th>\n",
       "      <th>identificacionUsuario</th>\n",
       "      <th>correoElectronico</th>\n",
       "      <th>nombreCliente</th>\n",
       "      <th>celular</th>\n",
       "      <th>VentasLopido</th>\n",
       "      <th>Ciudad</th>\n",
       "      <th>Departamento</th>\n",
       "    </tr>\n",
       "  </thead>\n",
       "  <tbody>\n",
       "    <tr>\n",
       "      <th>0</th>\n",
       "      <td>11000000019</td>\n",
       "      <td>at@sena.com</td>\n",
       "      <td>Erika Yuliana</td>\n",
       "      <td>3.000000e+09</td>\n",
       "      <td>20450</td>\n",
       "      <td>Garzon</td>\n",
       "      <td>Huila</td>\n",
       "    </tr>\n",
       "    <tr>\n",
       "      <th>1</th>\n",
       "      <td>11000000047</td>\n",
       "      <td>aah@sena.com</td>\n",
       "      <td>Viviana Gomez</td>\n",
       "      <td>3.000000e+09</td>\n",
       "      <td>21300</td>\n",
       "      <td>Neiva</td>\n",
       "      <td>Huila</td>\n",
       "    </tr>\n",
       "    <tr>\n",
       "      <th>2</th>\n",
       "      <td>11000000061</td>\n",
       "      <td>sergioalexander@hotmail.com</td>\n",
       "      <td>Erika Yuliana</td>\n",
       "      <td>3.000000e+09</td>\n",
       "      <td>21300</td>\n",
       "      <td>Neiva</td>\n",
       "      <td>Huila</td>\n",
       "    </tr>\n",
       "    <tr>\n",
       "      <th>3</th>\n",
       "      <td>83254781</td>\n",
       "      <td>juanandres@hotmail.com</td>\n",
       "      <td>Sergioalexander Perdomorivas</td>\n",
       "      <td>3.000000e+09</td>\n",
       "      <td>18450</td>\n",
       "      <td>Neiva</td>\n",
       "      <td>Huila</td>\n",
       "    </tr>\n",
       "    <tr>\n",
       "      <th>4</th>\n",
       "      <td>1010218223</td>\n",
       "      <td>natha@hotmail.com</td>\n",
       "      <td>Juanandres Camachoquiroz</td>\n",
       "      <td>3.000000e+09</td>\n",
       "      <td>18450</td>\n",
       "      <td>Neiva</td>\n",
       "      <td>Huila</td>\n",
       "    </tr>\n",
       "  </tbody>\n",
       "</table>\n",
       "</div>"
      ],
      "text/plain": [
       "   identificacionUsuario            correoElectronico  \\\n",
       "0            11000000019                  at@sena.com   \n",
       "1            11000000047                 aah@sena.com   \n",
       "2            11000000061  sergioalexander@hotmail.com   \n",
       "3               83254781       juanandres@hotmail.com   \n",
       "4             1010218223            natha@hotmail.com   \n",
       "\n",
       "                  nombreCliente       celular  VentasLopido  Ciudad  \\\n",
       "0                 Erika Yuliana  3.000000e+09         20450  Garzon   \n",
       "1                 Viviana Gomez  3.000000e+09         21300   Neiva   \n",
       "2                 Erika Yuliana  3.000000e+09         21300   Neiva   \n",
       "3  Sergioalexander Perdomorivas  3.000000e+09         18450   Neiva   \n",
       "4      Juanandres Camachoquiroz  3.000000e+09         18450   Neiva   \n",
       "\n",
       "  Departamento  \n",
       "0        Huila  \n",
       "1        Huila  \n",
       "2        Huila  \n",
       "3        Huila  \n",
       "4        Huila  "
      ]
     },
     "execution_count": 159,
     "metadata": {},
     "output_type": "execute_result"
    }
   ],
   "source": [
    "df.head()"
   ]
  }
 ],
 "metadata": {
  "kernelspec": {
   "display_name": "Python 3.10.7 64-bit",
   "language": "python",
   "name": "python3"
  },
  "language_info": {
   "codemirror_mode": {
    "name": "ipython",
    "version": 3
   },
   "file_extension": ".py",
   "mimetype": "text/x-python",
   "name": "python",
   "nbconvert_exporter": "python",
   "pygments_lexer": "ipython3",
   "version": "3.10.7"
  },
  "orig_nbformat": 4,
  "vscode": {
   "interpreter": {
    "hash": "cea226c4b7750e40aefa8376d6e828465c469294218ee874f1be60b6e31bbb46"
   }
  }
 },
 "nbformat": 4,
 "nbformat_minor": 2
}
