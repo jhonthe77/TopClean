{
 "cells": [
  {
   "cell_type": "code",
   "execution_count": 44,
   "metadata": {},
   "outputs": [],
   "source": [
    "import pandas as pd\n",
    "from validate_email import validate_email\n",
    "import re"
   ]
  },
  {
   "cell_type": "markdown",
   "metadata": {},
   "source": [
    "Cargar de la data"
   ]
  },
  {
   "cell_type": "code",
   "execution_count": 45,
   "metadata": {},
   "outputs": [],
   "source": [
    "df =pd.read_csv('Maternidad y bebes 2022.xlsx - Copia de LP.csv')"
   ]
  },
  {
   "cell_type": "markdown",
   "metadata": {},
   "source": [
    "Funcion para colocar la primera letra en mayuscula"
   ]
  },
  {
   "cell_type": "code",
   "execution_count": 46,
   "metadata": {},
   "outputs": [],
   "source": [
    "def Primera_l_mayuscula(df1,columna):\n",
    "    if columna in df1:\n",
    "        df1[columna] =df1[columna].str.capitalize()\n",
    "        return df1\n",
    "    else:\n",
    "        print(\"la columna no existe\")\n",
    "        return df1"
   ]
  },
  {
   "cell_type": "markdown",
   "metadata": {},
   "source": [
    "Funcion para validar email"
   ]
  },
  {
   "cell_type": "code",
   "execution_count": 47,
   "metadata": {},
   "outputs": [],
   "source": [
    "def validar_email(df1,columna,nuevacolumn):\n",
    "       if columna in df1:\n",
    "          df1[nuevacolumn] = df1[columna].apply(lambda x:validate_email(x))\n",
    "          df1[columna] = df1[columna].str.lower()\n",
    "          df_correos_malos=df1[df1[nuevacolumn==False]]\n",
    "       return df1,df_correos_malos\n",
    "    "
   ]
  },
  {
   "cell_type": "markdown",
   "metadata": {},
   "source": [
    "Renombrar columnas"
   ]
  },
  {
   "cell_type": "code",
   "execution_count": 48,
   "metadata": {},
   "outputs": [],
   "source": [
    "def Renombrar_columna(df1,columna,nuevacolumn):\n",
    "    if columna in df1:\n",
    "        df1=df1.rename({columna:nuevacolumn},axis=1)\n",
    "        return df1\n",
    "    else:\n",
    "        print(\"la columna no existe\")\n",
    "        return df1"
   ]
  },
  {
   "cell_type": "markdown",
   "metadata": {},
   "source": [
    "Funcion para validar telefono"
   ]
  },
  {
   "cell_type": "code",
   "execution_count": 49,
   "metadata": {},
   "outputs": [],
   "source": [
    "def validar_Telefono(df1,columna):\n",
    "    if columna in df1:\n",
    "      df1[columna]=df1[columna].astype('str')\n",
    "      df1[columna]=df1[columna].str.slice(0,10)#extraer una sub cadena de la coluna\n",
    "      telefono=df1[columna]\n",
    "      patron= '^[3]\\d{9}$'\n",
    "      validar= re.compile(patron)\n",
    "      valido=[]\n",
    "      for t in telefono:\n",
    "          valido.append('si'  if validar.search(t) is not None else 'no')\n",
    "\n",
    "      telef=pd.Series(valido) \n",
    "      df1[columna]=telef \n",
    "      df1[df1.columna=='nan'].replace('nan','')\n",
    "      df1[columna]=df1['celular'].replace('nan','')\n",
    "      return df1\n",
    "\n",
    "    else:\n",
    "        print(\"la columna no existe\")\n",
    "        return df1"
   ]
  },
  {
   "cell_type": "markdown",
   "metadata": {},
   "source": [
    "Obtener las columnas del dataframe"
   ]
  },
  {
   "cell_type": "code",
   "execution_count": 52,
   "metadata": {},
   "outputs": [],
   "source": [
    "def obtener_nombres_columnas(df1):\n",
    "     lista_columnas = df1.columns\n",
    "     return lista_columnas\n",
    "     "
   ]
  }
 ],
 "metadata": {
  "kernelspec": {
   "display_name": "Python 3.10.7 64-bit",
   "language": "python",
   "name": "python3"
  },
  "language_info": {
   "codemirror_mode": {
    "name": "ipython",
    "version": 3
   },
   "file_extension": ".py",
   "mimetype": "text/x-python",
   "name": "python",
   "nbconvert_exporter": "python",
   "pygments_lexer": "ipython3",
   "version": "3.10.7"
  },
  "orig_nbformat": 4,
  "vscode": {
   "interpreter": {
    "hash": "cea226c4b7750e40aefa8376d6e828465c469294218ee874f1be60b6e31bbb46"
   }
  }
 },
 "nbformat": 4,
 "nbformat_minor": 2
}
