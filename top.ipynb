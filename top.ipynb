{
 "cells": [
  {
   "cell_type": "markdown",
   "metadata": {},
   "source": [
    "Importo los modulos"
   ]
  },
  {
   "cell_type": "code",
   "execution_count": 26,
   "metadata": {},
   "outputs": [],
   "source": [
    "import pandas as pd\n",
    "from validate_email import validate_email\n",
    "import re"
   ]
  },
  {
   "cell_type": "markdown",
   "metadata": {},
   "source": [
    "Cargar de la data"
   ]
  },
  {
   "cell_type": "code",
   "execution_count": 27,
   "metadata": {},
   "outputs": [],
   "source": [
    "df =pd.read_csv('Maternidad y bebes 2022.xlsx - Copia de LP.csv')"
   ]
  },
  {
   "cell_type": "markdown",
   "metadata": {},
   "source": [
    "Funcion para colocar la primera letra en mayuscula"
   ]
  },
  {
   "cell_type": "code",
   "execution_count": 28,
   "metadata": {},
   "outputs": [],
   "source": [
    "def Primera_l_mayuscula(df1,columna):\n",
    "    if columna in df1:\n",
    "        df1[columna] =df1[columna].str.capitalize()\n",
    "        return df1\n",
    "    else:\n",
    "        print(\"la columna no existe\")\n",
    "        return df1"
   ]
  },
  {
   "cell_type": "markdown",
   "metadata": {},
   "source": [
    "Funcion para validar email"
   ]
  },
  {
   "cell_type": "code",
   "execution_count": 29,
   "metadata": {},
   "outputs": [],
   "source": [
    "def validar_email(df1,columna,nuevacolumn):\n",
    "       if columna in df1:\n",
    "          df1[nuevacolumn] = df1[columna].apply(lambda x:validate_email(x))\n",
    "          df1[columna] = df1[columna].str.lower()\n",
    "          df_correos_malos=df1[df1[nuevacolumn==False]]\n",
    "       return df1,df_correos_malos\n",
    "    "
   ]
  },
  {
   "cell_type": "markdown",
   "metadata": {},
   "source": [
    "Renombrar columnas"
   ]
  },
  {
   "cell_type": "code",
   "execution_count": 30,
   "metadata": {},
   "outputs": [],
   "source": [
    "def Renombrar_columna(df1,columna,nuevacolumn):\n",
    "    if columna in df1:\n",
    "        df1=df1.rename({columna:nuevacolumn},axis=1)\n",
    "        return df1\n",
    "    else:\n",
    "        print(\"la columna no existe\")\n",
    "        return df1"
   ]
  },
  {
   "cell_type": "markdown",
   "metadata": {},
   "source": [
    "Funcion para validar telefono"
   ]
  },
  {
   "cell_type": "code",
   "execution_count": 31,
   "metadata": {},
   "outputs": [],
   "source": [
    "def validar_Telefono(df1,columna):\n",
    "    if columna in df1:\n",
    "      df1[columna]=df1[columna].astype('str')\n",
    "      df1[columna]=df1[columna].str.slice(0,10)#extraer una sub cadena de la coluna\n",
    "      telefono=df1[columna]\n",
    "      patron= '^[3]\\d{9}$'\n",
    "      validar= re.compile(patron)\n",
    "      valido=[]\n",
    "      for t in telefono:\n",
    "          valido.append('si'  if validar.search(t) is not None else 'no')\n",
    "\n",
    "      telef=pd.Series(valido) \n",
    "      df1[columna]=telef \n",
    "      df1[df1.columna=='nan'].replace('nan','')\n",
    "      df1[columna]=df1['celular'].replace('nan','')\n",
    "      return df1\n",
    "\n",
    "    else:\n",
    "        print(\"la columna no existe\")\n",
    "        return df1"
   ]
  },
  {
   "cell_type": "markdown",
   "metadata": {},
   "source": [
    "Obtener las columnas del dataframe"
   ]
  },
  {
   "cell_type": "code",
   "execution_count": 32,
   "metadata": {},
   "outputs": [],
   "source": [
    "def obtener_nombres_columnas(df1):\n",
    "     lista_columnas = df1.columns\n",
    "     return lista_columnas "
   ]
  },
  {
   "cell_type": "markdown",
   "metadata": {},
   "source": [
    "Crear columna nuevas"
   ]
  },
  {
   "cell_type": "code",
   "execution_count": 33,
   "metadata": {},
   "outputs": [],
   "source": [
    "def Crear_columnas(df1,nombre_columna,numero_columnas):\n",
    "    if numero_columnas>0:\n",
    "        for col in range(numero_columnas):\n",
    "             if nombre_columna in df1:\n",
    "              print('La columna ya existe')\n",
    "        return df1\n",
    "    else:\n",
    "        while nombre_columna==0:\n",
    "            numero_columnas-=1\n",
    "            df1[nombre_columna]=''\n",
    "        return df1\n"
   ]
  }
 ],
 "metadata": {
  "kernelspec": {
   "display_name": "Python 3.10.7 64-bit",
   "language": "python",
   "name": "python3"
  },
  "language_info": {
   "codemirror_mode": {
    "name": "ipython",
    "version": 3
   },
   "file_extension": ".py",
   "mimetype": "text/x-python",
   "name": "python",
   "nbconvert_exporter": "python",
   "pygments_lexer": "ipython3",
   "version": "3.10.7"
  },
  "orig_nbformat": 4,
  "vscode": {
   "interpreter": {
    "hash": "cea226c4b7750e40aefa8376d6e828465c469294218ee874f1be60b6e31bbb46"
   }
  }
 },
 "nbformat": 4,
 "nbformat_minor": 2
}
