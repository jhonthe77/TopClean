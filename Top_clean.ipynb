{
 "cells": [
  {
   "cell_type": "code",
   "execution_count": 23,
   "metadata": {},
   "outputs": [],
   "source": [
    "import pandas as pd\n",
    "from validate_email import validate_email\n",
    "import re\n",
    "df =pd.read_csv('Maternidad y bebes 2022.xlsx - Copia de LP.csv')"
   ]
  },
  {
   "cell_type": "code",
   "execution_count": 24,
   "metadata": {},
   "outputs": [
    {
     "data": {
      "text/plain": [
       "Index(['identificacionUsuario', 'correoElectronico', 'nombreCliente',\n",
       "       'celular', 'VentasLopido', 'Ciudad', 'Departamento'],\n",
       "      dtype='object')"
      ]
     },
     "execution_count": 24,
     "metadata": {},
     "output_type": "execute_result"
    }
   ],
   "source": [
    "df.columns"
   ]
  },
  {
   "cell_type": "code",
   "execution_count": 25,
   "metadata": {},
   "outputs": [
    {
     "data": {
      "text/plain": [
       "0                             Erika Yuliana\n",
       "1                             Viviana Gomez\n",
       "2                             Erika Yuliana\n",
       "3              Sergioalexander Perdomorivas\n",
       "4                  Juanandres Camachoquiroz\n",
       "                       ...                 \n",
       "7465                         Daniela  Henao\n",
       "7466                            Dimedi  Sas\n",
       "7467    Aderson Alexander Perez  Castrillon\n",
       "7468                          Diana Montano\n",
       "7469                      Martha  Gutierrez\n",
       "Name: nombreCliente, Length: 7470, dtype: object"
      ]
     },
     "execution_count": 25,
     "metadata": {},
     "output_type": "execute_result"
    }
   ],
   "source": [
    "df.nombreCliente"
   ]
  },
  {
   "cell_type": "code",
   "execution_count": 26,
   "metadata": {},
   "outputs": [
    {
     "data": {
      "text/plain": [
       "0                             Erika yuliana\n",
       "1                             Viviana gomez\n",
       "2                             Erika yuliana\n",
       "3              Sergioalexander perdomorivas\n",
       "4                  Juanandres camachoquiroz\n",
       "                       ...                 \n",
       "7465                         Daniela  henao\n",
       "7466                            Dimedi  sas\n",
       "7467    Aderson alexander perez  castrillon\n",
       "7468                          Diana montano\n",
       "7469                      Martha  gutierrez\n",
       "Name: nombreCliente, Length: 7470, dtype: object"
      ]
     },
     "execution_count": 26,
     "metadata": {},
     "output_type": "execute_result"
    }
   ],
   "source": [
    "df['nombreCliente'] =df['nombreCliente'].str.capitalize()\n",
    "df.nombreCliente"
   ]
  },
  {
   "cell_type": "code",
   "execution_count": 27,
   "metadata": {},
   "outputs": [
    {
     "data": {
      "text/html": [
       "<div>\n",
       "<style scoped>\n",
       "    .dataframe tbody tr th:only-of-type {\n",
       "        vertical-align: middle;\n",
       "    }\n",
       "\n",
       "    .dataframe tbody tr th {\n",
       "        vertical-align: top;\n",
       "    }\n",
       "\n",
       "    .dataframe thead th {\n",
       "        text-align: right;\n",
       "    }\n",
       "</style>\n",
       "<table border=\"1\" class=\"dataframe\">\n",
       "  <thead>\n",
       "    <tr style=\"text-align: right;\">\n",
       "      <th></th>\n",
       "      <th>identificacionUsuario</th>\n",
       "      <th>correoElectronico</th>\n",
       "      <th>nombreCliente</th>\n",
       "      <th>celular</th>\n",
       "      <th>VentasLopido</th>\n",
       "      <th>Ciudad</th>\n",
       "      <th>Departamento</th>\n",
       "      <th>valid_email</th>\n",
       "    </tr>\n",
       "  </thead>\n",
       "  <tbody>\n",
       "  </tbody>\n",
       "</table>\n",
       "</div>"
      ],
      "text/plain": [
       "Empty DataFrame\n",
       "Columns: [identificacionUsuario, correoElectronico, nombreCliente, celular, VentasLopido, Ciudad, Departamento, valid_email]\n",
       "Index: []"
      ]
     },
     "execution_count": 27,
     "metadata": {},
     "output_type": "execute_result"
    }
   ],
   "source": [
    "df['valid_email'] = df['correoElectronico'].apply(lambda x:validate_email(x))\n",
    "df['correoElectronico'] = df['correoElectronico'].str.lower()\n",
    "df[df['valid_email']== False]"
   ]
  },
  {
   "cell_type": "code",
   "execution_count": 28,
   "metadata": {},
   "outputs": [],
   "source": [
    "df['celular']=df['celular'].astype('str')\n",
    "telefono=df['celular'].str.slice(0,10)#extraer una sub cadena de la coluna\n"
   ]
  },
  {
   "cell_type": "code",
   "execution_count": 41,
   "metadata": {},
   "outputs": [
    {
     "data": {
      "text/plain": [
       "0       novalido\n",
       "1       novalido\n",
       "2       novalido\n",
       "3       novalido\n",
       "4       novalido\n",
       "          ...   \n",
       "7465    novalido\n",
       "7466    novalido\n",
       "7467    novalido\n",
       "7468    novalido\n",
       "7469    novalido\n",
       "Name: telefonov, Length: 7470, dtype: object"
      ]
     },
     "execution_count": 41,
     "metadata": {},
     "output_type": "execute_result"
    }
   ],
   "source": [
    "telefono\n",
    "patron= '^[3]\\d{9}$'\n",
    "validar= re.compile(patron)\n",
    "for t in telefono:\n",
    "    \n",
    "    #print('si'  if validar.search(t) is not None else 'no')\n",
    "    if validar.search(t) is not None:\n",
    "        df['telefonov']=validar.search(t).group()\n",
    "    else:\n",
    "        df['telefonov']='novalido'\n",
    "       \n",
    "df.telefonov"
   ]
  }
 ],
 "metadata": {
  "kernelspec": {
   "display_name": "Python 3.10.7 64-bit",
   "language": "python",
   "name": "python3"
  },
  "language_info": {
   "codemirror_mode": {
    "name": "ipython",
    "version": 3
   },
   "file_extension": ".py",
   "mimetype": "text/x-python",
   "name": "python",
   "nbconvert_exporter": "python",
   "pygments_lexer": "ipython3",
   "version": "3.10.7"
  },
  "orig_nbformat": 4,
  "vscode": {
   "interpreter": {
    "hash": "cea226c4b7750e40aefa8376d6e828465c469294218ee874f1be60b6e31bbb46"
   }
  }
 },
 "nbformat": 4,
 "nbformat_minor": 2
}
