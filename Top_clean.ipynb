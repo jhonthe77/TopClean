{
 "cells": [
  {
   "cell_type": "code",
   "execution_count": 2,
   "metadata": {},
   "outputs": [],
   "source": [
    "import pandas as pd\n",
    "from validate_email import validate_email\n",
    "import re\n",
    "import numpy as np\n",
    "df =pd.read_csv('Maternidad y bebes 2022.xlsx - Copia de LP.csv')"
   ]
  },
  {
   "cell_type": "code",
   "execution_count": 3,
   "metadata": {},
   "outputs": [
    {
     "data": {
      "text/plain": [
       "Index(['identificacionUsuario', 'correoElectronico', 'nombreCliente',\n",
       "       'celular', 'VentasLopido', 'Ciudad', 'Departamento'],\n",
       "      dtype='object')"
      ]
     },
     "execution_count": 3,
     "metadata": {},
     "output_type": "execute_result"
    }
   ],
   "source": [
    "df.columns"
   ]
  },
  {
   "cell_type": "code",
   "execution_count": 4,
   "metadata": {},
   "outputs": [
    {
     "data": {
      "text/plain": [
       "0                   Erika Yuliana\n",
       "1                   Viviana Gomez\n",
       "2                   Erika Yuliana\n",
       "3    Sergioalexander Perdomorivas\n",
       "4        Juanandres Camachoquiroz\n",
       "Name: nombreCliente, dtype: object"
      ]
     },
     "execution_count": 4,
     "metadata": {},
     "output_type": "execute_result"
    }
   ],
   "source": [
    "df.nombreCliente.head()"
   ]
  },
  {
   "cell_type": "code",
   "execution_count": 5,
   "metadata": {},
   "outputs": [
    {
     "data": {
      "text/plain": [
       "0                   Erika yuliana\n",
       "1                   Viviana gomez\n",
       "2                   Erika yuliana\n",
       "3    Sergioalexander perdomorivas\n",
       "4        Juanandres camachoquiroz\n",
       "Name: nombreCliente, dtype: object"
      ]
     },
     "execution_count": 5,
     "metadata": {},
     "output_type": "execute_result"
    }
   ],
   "source": [
    "df['nombreCliente'] =df['nombreCliente'].str.capitalize()\n",
    "df.nombreCliente.head()"
   ]
  },
  {
   "cell_type": "code",
   "execution_count": 6,
   "metadata": {},
   "outputs": [
    {
     "data": {
      "text/plain": [
       "0                    at@sena.com\n",
       "1                   aah@sena.com\n",
       "2    sergioalexander@hotmail.com\n",
       "3         juanandres@hotmail.com\n",
       "4              natha@hotmail.com\n",
       "Name: correoElectronico, dtype: object"
      ]
     },
     "execution_count": 6,
     "metadata": {},
     "output_type": "execute_result"
    }
   ],
   "source": [
    "df['correoElectronico'].head(5)"
   ]
  },
  {
   "cell_type": "code",
   "execution_count": 7,
   "metadata": {},
   "outputs": [
    {
     "data": {
      "text/html": [
       "<div>\n",
       "<style scoped>\n",
       "    .dataframe tbody tr th:only-of-type {\n",
       "        vertical-align: middle;\n",
       "    }\n",
       "\n",
       "    .dataframe tbody tr th {\n",
       "        vertical-align: top;\n",
       "    }\n",
       "\n",
       "    .dataframe thead th {\n",
       "        text-align: right;\n",
       "    }\n",
       "</style>\n",
       "<table border=\"1\" class=\"dataframe\">\n",
       "  <thead>\n",
       "    <tr style=\"text-align: right;\">\n",
       "      <th></th>\n",
       "      <th>identificacionUsuario</th>\n",
       "      <th>correoElectronico</th>\n",
       "      <th>nombreCliente</th>\n",
       "      <th>celular</th>\n",
       "      <th>VentasLopido</th>\n",
       "      <th>Ciudad</th>\n",
       "      <th>Departamento</th>\n",
       "      <th>valid_email</th>\n",
       "    </tr>\n",
       "  </thead>\n",
       "  <tbody>\n",
       "    <tr>\n",
       "      <th>0</th>\n",
       "      <td>11000000019</td>\n",
       "      <td>at@sena.com</td>\n",
       "      <td>Erika yuliana</td>\n",
       "      <td>3.000000e+09</td>\n",
       "      <td>20450</td>\n",
       "      <td>Garzon</td>\n",
       "      <td>Huila</td>\n",
       "      <td>True</td>\n",
       "    </tr>\n",
       "    <tr>\n",
       "      <th>1</th>\n",
       "      <td>11000000047</td>\n",
       "      <td>aah@sena.com</td>\n",
       "      <td>Viviana gomez</td>\n",
       "      <td>3.000000e+09</td>\n",
       "      <td>21300</td>\n",
       "      <td>Neiva</td>\n",
       "      <td>Huila</td>\n",
       "      <td>True</td>\n",
       "    </tr>\n",
       "    <tr>\n",
       "      <th>2</th>\n",
       "      <td>11000000061</td>\n",
       "      <td>sergioalexander@hotmail.com</td>\n",
       "      <td>Erika yuliana</td>\n",
       "      <td>3.000000e+09</td>\n",
       "      <td>21300</td>\n",
       "      <td>Neiva</td>\n",
       "      <td>Huila</td>\n",
       "      <td>True</td>\n",
       "    </tr>\n",
       "    <tr>\n",
       "      <th>3</th>\n",
       "      <td>83254781</td>\n",
       "      <td>juanandres@hotmail.com</td>\n",
       "      <td>Sergioalexander perdomorivas</td>\n",
       "      <td>3.000000e+09</td>\n",
       "      <td>18450</td>\n",
       "      <td>Neiva</td>\n",
       "      <td>Huila</td>\n",
       "      <td>True</td>\n",
       "    </tr>\n",
       "    <tr>\n",
       "      <th>4</th>\n",
       "      <td>1010218223</td>\n",
       "      <td>natha@hotmail.com</td>\n",
       "      <td>Juanandres camachoquiroz</td>\n",
       "      <td>3.000000e+09</td>\n",
       "      <td>18450</td>\n",
       "      <td>Neiva</td>\n",
       "      <td>Huila</td>\n",
       "      <td>True</td>\n",
       "    </tr>\n",
       "  </tbody>\n",
       "</table>\n",
       "</div>"
      ],
      "text/plain": [
       "   identificacionUsuario            correoElectronico  \\\n",
       "0            11000000019                  at@sena.com   \n",
       "1            11000000047                 aah@sena.com   \n",
       "2            11000000061  sergioalexander@hotmail.com   \n",
       "3               83254781       juanandres@hotmail.com   \n",
       "4             1010218223            natha@hotmail.com   \n",
       "\n",
       "                  nombreCliente       celular  VentasLopido  Ciudad  \\\n",
       "0                 Erika yuliana  3.000000e+09         20450  Garzon   \n",
       "1                 Viviana gomez  3.000000e+09         21300   Neiva   \n",
       "2                 Erika yuliana  3.000000e+09         21300   Neiva   \n",
       "3  Sergioalexander perdomorivas  3.000000e+09         18450   Neiva   \n",
       "4      Juanandres camachoquiroz  3.000000e+09         18450   Neiva   \n",
       "\n",
       "  Departamento  valid_email  \n",
       "0        Huila         True  \n",
       "1        Huila         True  \n",
       "2        Huila         True  \n",
       "3        Huila         True  \n",
       "4        Huila         True  "
      ]
     },
     "execution_count": 7,
     "metadata": {},
     "output_type": "execute_result"
    }
   ],
   "source": [
    "df['valid_email'] = df['correoElectronico'].apply(lambda x:validate_email(x))\n",
    "df['correoElectronico'] = df['correoElectronico'].str.lower()\n",
    "df[df['valid_email']== True].head()"
   ]
  },
  {
   "cell_type": "code",
   "execution_count": 8,
   "metadata": {},
   "outputs": [],
   "source": [
    "df['celular']=df['celular'].astype('str')\n",
    "df['celular']=df['celular'].str.slice(0,10)#extraer una sub cadena de la coluna\n",
    "telefono=df['celular']"
   ]
  },
  {
   "cell_type": "code",
   "execution_count": 9,
   "metadata": {},
   "outputs": [],
   "source": [
    "telefono\n",
    "patron= '^[3]\\d{9}$'\n",
    "validar= re.compile(patron)\n",
    "valido=[]"
   ]
  },
  {
   "cell_type": "code",
   "execution_count": 10,
   "metadata": {},
   "outputs": [],
   "source": [
    "for t in telefono:\n",
    "    valido.append('si'  if validar.search(t) is not None else 'no')"
   ]
  },
  {
   "cell_type": "code",
   "execution_count": 11,
   "metadata": {},
   "outputs": [
    {
     "data": {
      "text/html": [
       "<div>\n",
       "<style scoped>\n",
       "    .dataframe tbody tr th:only-of-type {\n",
       "        vertical-align: middle;\n",
       "    }\n",
       "\n",
       "    .dataframe tbody tr th {\n",
       "        vertical-align: top;\n",
       "    }\n",
       "\n",
       "    .dataframe thead th {\n",
       "        text-align: right;\n",
       "    }\n",
       "</style>\n",
       "<table border=\"1\" class=\"dataframe\">\n",
       "  <thead>\n",
       "    <tr style=\"text-align: right;\">\n",
       "      <th></th>\n",
       "      <th>identificacionUsuario</th>\n",
       "      <th>correoElectronico</th>\n",
       "      <th>nombreCliente</th>\n",
       "      <th>celular</th>\n",
       "      <th>VentasLopido</th>\n",
       "      <th>Ciudad</th>\n",
       "      <th>Departamento</th>\n",
       "      <th>valid_email</th>\n",
       "      <th>validos</th>\n",
       "    </tr>\n",
       "  </thead>\n",
       "  <tbody>\n",
       "    <tr>\n",
       "      <th>7432</th>\n",
       "      <td>10965765</td>\n",
       "      <td>amandaluzpolop2979@hotmail.com</td>\n",
       "      <td>Samir sierra</td>\n",
       "      <td>nan</td>\n",
       "      <td>58400</td>\n",
       "      <td>Monteria</td>\n",
       "      <td>Cordoba</td>\n",
       "      <td>True</td>\n",
       "      <td>no</td>\n",
       "    </tr>\n",
       "    <tr>\n",
       "      <th>7433</th>\n",
       "      <td>10965753</td>\n",
       "      <td>crhistiancf8@gmail.com</td>\n",
       "      <td>Zahid sierra cassiany</td>\n",
       "      <td>nan</td>\n",
       "      <td>31350</td>\n",
       "      <td>Monteria</td>\n",
       "      <td>Cordoba</td>\n",
       "      <td>True</td>\n",
       "      <td>no</td>\n",
       "    </tr>\n",
       "    <tr>\n",
       "      <th>7434</th>\n",
       "      <td>1084235749</td>\n",
       "      <td>danielcastellon@gmail.com</td>\n",
       "      <td>Amanda pedrozo</td>\n",
       "      <td>nan</td>\n",
       "      <td>34650</td>\n",
       "      <td>Barranquilla</td>\n",
       "      <td>Atlantico</td>\n",
       "      <td>True</td>\n",
       "      <td>no</td>\n",
       "    </tr>\n",
       "    <tr>\n",
       "      <th>7435</th>\n",
       "      <td>1001943197</td>\n",
       "      <td>caroli85@hotmail.com</td>\n",
       "      <td>Cristian  castañeda</td>\n",
       "      <td>nan</td>\n",
       "      <td>40900</td>\n",
       "      <td>Barranquilla</td>\n",
       "      <td>Atlantico</td>\n",
       "      <td>True</td>\n",
       "      <td>no</td>\n",
       "    </tr>\n",
       "    <tr>\n",
       "      <th>7436</th>\n",
       "      <td>1065605007</td>\n",
       "      <td>ventasangel1234@hotmail.com</td>\n",
       "      <td>Daniel castellon</td>\n",
       "      <td>nan</td>\n",
       "      <td>61830</td>\n",
       "      <td>Valledupar</td>\n",
       "      <td>Cesar</td>\n",
       "      <td>True</td>\n",
       "      <td>no</td>\n",
       "    </tr>\n",
       "  </tbody>\n",
       "</table>\n",
       "</div>"
      ],
      "text/plain": [
       "      identificacionUsuario               correoElectronico  \\\n",
       "7432               10965765  amandaluzpolop2979@hotmail.com   \n",
       "7433               10965753          crhistiancf8@gmail.com   \n",
       "7434             1084235749       danielcastellon@gmail.com   \n",
       "7435             1001943197            caroli85@hotmail.com   \n",
       "7436             1065605007     ventasangel1234@hotmail.com   \n",
       "\n",
       "              nombreCliente celular  VentasLopido        Ciudad Departamento  \\\n",
       "7432           Samir sierra     nan         58400      Monteria      Cordoba   \n",
       "7433  Zahid sierra cassiany     nan         31350      Monteria      Cordoba   \n",
       "7434         Amanda pedrozo     nan         34650  Barranquilla    Atlantico   \n",
       "7435    Cristian  castañeda     nan         40900  Barranquilla    Atlantico   \n",
       "7436       Daniel castellon     nan         61830    Valledupar        Cesar   \n",
       "\n",
       "      valid_email validos  \n",
       "7432         True      no  \n",
       "7433         True      no  \n",
       "7434         True      no  \n",
       "7435         True      no  \n",
       "7436         True      no  "
      ]
     },
     "execution_count": 11,
     "metadata": {},
     "output_type": "execute_result"
    }
   ],
   "source": [
    "telef=pd.Series(valido) \n",
    "df['validos']=telef   \n",
    "df[df.validos=='no'].head()"
   ]
  },
  {
   "cell_type": "code",
   "execution_count": 12,
   "metadata": {},
   "outputs": [],
   "source": [
    "\n",
    "df[df.celular=='nan'].replace('nan','').head()\n",
    "df['celular']=df['celular'].replace('nan','')"
   ]
  },
  {
   "cell_type": "code",
   "execution_count": 13,
   "metadata": {},
   "outputs": [
    {
     "data": {
      "text/html": [
       "<div>\n",
       "<style scoped>\n",
       "    .dataframe tbody tr th:only-of-type {\n",
       "        vertical-align: middle;\n",
       "    }\n",
       "\n",
       "    .dataframe tbody tr th {\n",
       "        vertical-align: top;\n",
       "    }\n",
       "\n",
       "    .dataframe thead th {\n",
       "        text-align: right;\n",
       "    }\n",
       "</style>\n",
       "<table border=\"1\" class=\"dataframe\">\n",
       "  <thead>\n",
       "    <tr style=\"text-align: right;\">\n",
       "      <th></th>\n",
       "      <th>identificacionUsuario</th>\n",
       "      <th>correoElectronico</th>\n",
       "      <th>nombreCliente</th>\n",
       "      <th>celular</th>\n",
       "      <th>VentasLopido</th>\n",
       "      <th>Ciudad</th>\n",
       "      <th>Departamento</th>\n",
       "    </tr>\n",
       "  </thead>\n",
       "  <tbody>\n",
       "    <tr>\n",
       "      <th>0</th>\n",
       "      <td>11000000019</td>\n",
       "      <td>at@sena.com</td>\n",
       "      <td>Erika yuliana</td>\n",
       "      <td>3000000021</td>\n",
       "      <td>20450</td>\n",
       "      <td>Garzon</td>\n",
       "      <td>Huila</td>\n",
       "    </tr>\n",
       "    <tr>\n",
       "      <th>1</th>\n",
       "      <td>11000000047</td>\n",
       "      <td>aah@sena.com</td>\n",
       "      <td>Viviana gomez</td>\n",
       "      <td>3000000048</td>\n",
       "      <td>21300</td>\n",
       "      <td>Neiva</td>\n",
       "      <td>Huila</td>\n",
       "    </tr>\n",
       "    <tr>\n",
       "      <th>2</th>\n",
       "      <td>11000000061</td>\n",
       "      <td>sergioalexander@hotmail.com</td>\n",
       "      <td>Erika yuliana</td>\n",
       "      <td>3000000062</td>\n",
       "      <td>21300</td>\n",
       "      <td>Neiva</td>\n",
       "      <td>Huila</td>\n",
       "    </tr>\n",
       "    <tr>\n",
       "      <th>3</th>\n",
       "      <td>83254781</td>\n",
       "      <td>juanandres@hotmail.com</td>\n",
       "      <td>Sergioalexander perdomorivas</td>\n",
       "      <td>3000000068</td>\n",
       "      <td>18450</td>\n",
       "      <td>Neiva</td>\n",
       "      <td>Huila</td>\n",
       "    </tr>\n",
       "    <tr>\n",
       "      <th>4</th>\n",
       "      <td>1010218223</td>\n",
       "      <td>natha@hotmail.com</td>\n",
       "      <td>Juanandres camachoquiroz</td>\n",
       "      <td>3000000069</td>\n",
       "      <td>18450</td>\n",
       "      <td>Neiva</td>\n",
       "      <td>Huila</td>\n",
       "    </tr>\n",
       "  </tbody>\n",
       "</table>\n",
       "</div>"
      ],
      "text/plain": [
       "   identificacionUsuario            correoElectronico  \\\n",
       "0            11000000019                  at@sena.com   \n",
       "1            11000000047                 aah@sena.com   \n",
       "2            11000000061  sergioalexander@hotmail.com   \n",
       "3               83254781       juanandres@hotmail.com   \n",
       "4             1010218223            natha@hotmail.com   \n",
       "\n",
       "                  nombreCliente     celular  VentasLopido  Ciudad Departamento  \n",
       "0                 Erika yuliana  3000000021         20450  Garzon        Huila  \n",
       "1                 Viviana gomez  3000000048         21300   Neiva        Huila  \n",
       "2                 Erika yuliana  3000000062         21300   Neiva        Huila  \n",
       "3  Sergioalexander perdomorivas  3000000068         18450   Neiva        Huila  \n",
       "4      Juanandres camachoquiroz  3000000069         18450   Neiva        Huila  "
      ]
     },
     "execution_count": 13,
     "metadata": {},
     "output_type": "execute_result"
    }
   ],
   "source": [
    "del df ['valid_email']\n",
    "del df ['validos']\n",
    "df.head()"
   ]
  },
  {
   "cell_type": "code",
   "execution_count": 14,
   "metadata": {},
   "outputs": [],
   "source": [
    "def Renombrar_columna(df1, columna,nuevacolumn):\n",
    "    if columna in df1:\n",
    "        df1=df1.rename({columna:nuevacolumn},axis=1)\n",
    "        return df1\n",
    "    else:\n",
    "        print(\"la columna no existe\")\n",
    "        return df1"
   ]
  },
  {
   "cell_type": "code",
   "execution_count": 16,
   "metadata": {},
   "outputs": [
    {
     "name": "stdout",
     "output_type": "stream",
     "text": [
      "la columna no existe\n",
      "la columna no existe\n",
      "la columna no existe\n"
     ]
    },
    {
     "data": {
      "text/html": [
       "<div>\n",
       "<style scoped>\n",
       "    .dataframe tbody tr th:only-of-type {\n",
       "        vertical-align: middle;\n",
       "    }\n",
       "\n",
       "    .dataframe tbody tr th {\n",
       "        vertical-align: top;\n",
       "    }\n",
       "\n",
       "    .dataframe thead th {\n",
       "        text-align: right;\n",
       "    }\n",
       "</style>\n",
       "<table border=\"1\" class=\"dataframe\">\n",
       "  <thead>\n",
       "    <tr style=\"text-align: right;\">\n",
       "      <th></th>\n",
       "      <th>identificacionUsuario</th>\n",
       "      <th>Emails</th>\n",
       "      <th>Nombre</th>\n",
       "      <th>Telefono</th>\n",
       "      <th>VentasLopido</th>\n",
       "      <th>Ciudad</th>\n",
       "      <th>Departamento</th>\n",
       "    </tr>\n",
       "  </thead>\n",
       "  <tbody>\n",
       "    <tr>\n",
       "      <th>0</th>\n",
       "      <td>11000000019</td>\n",
       "      <td>at@sena.com</td>\n",
       "      <td>Erika yuliana</td>\n",
       "      <td>3000000021</td>\n",
       "      <td>20450</td>\n",
       "      <td>Garzon</td>\n",
       "      <td>Huila</td>\n",
       "    </tr>\n",
       "    <tr>\n",
       "      <th>1</th>\n",
       "      <td>11000000047</td>\n",
       "      <td>aah@sena.com</td>\n",
       "      <td>Viviana gomez</td>\n",
       "      <td>3000000048</td>\n",
       "      <td>21300</td>\n",
       "      <td>Neiva</td>\n",
       "      <td>Huila</td>\n",
       "    </tr>\n",
       "    <tr>\n",
       "      <th>2</th>\n",
       "      <td>11000000061</td>\n",
       "      <td>sergioalexander@hotmail.com</td>\n",
       "      <td>Erika yuliana</td>\n",
       "      <td>3000000062</td>\n",
       "      <td>21300</td>\n",
       "      <td>Neiva</td>\n",
       "      <td>Huila</td>\n",
       "    </tr>\n",
       "    <tr>\n",
       "      <th>3</th>\n",
       "      <td>83254781</td>\n",
       "      <td>juanandres@hotmail.com</td>\n",
       "      <td>Sergioalexander perdomorivas</td>\n",
       "      <td>3000000068</td>\n",
       "      <td>18450</td>\n",
       "      <td>Neiva</td>\n",
       "      <td>Huila</td>\n",
       "    </tr>\n",
       "    <tr>\n",
       "      <th>4</th>\n",
       "      <td>1010218223</td>\n",
       "      <td>natha@hotmail.com</td>\n",
       "      <td>Juanandres camachoquiroz</td>\n",
       "      <td>3000000069</td>\n",
       "      <td>18450</td>\n",
       "      <td>Neiva</td>\n",
       "      <td>Huila</td>\n",
       "    </tr>\n",
       "  </tbody>\n",
       "</table>\n",
       "</div>"
      ],
      "text/plain": [
       "   identificacionUsuario                       Emails  \\\n",
       "0            11000000019                  at@sena.com   \n",
       "1            11000000047                 aah@sena.com   \n",
       "2            11000000061  sergioalexander@hotmail.com   \n",
       "3               83254781       juanandres@hotmail.com   \n",
       "4             1010218223            natha@hotmail.com   \n",
       "\n",
       "                         Nombre    Telefono  VentasLopido  Ciudad Departamento  \n",
       "0                 Erika yuliana  3000000021         20450  Garzon        Huila  \n",
       "1                 Viviana gomez  3000000048         21300   Neiva        Huila  \n",
       "2                 Erika yuliana  3000000062         21300   Neiva        Huila  \n",
       "3  Sergioalexander perdomorivas  3000000068         18450   Neiva        Huila  \n",
       "4      Juanandres camachoquiroz  3000000069         18450   Neiva        Huila  "
      ]
     },
     "execution_count": 16,
     "metadata": {},
     "output_type": "execute_result"
    }
   ],
   "source": [
    "df=Renombrar_columna(df,'nombreCliente','Nombre')\n",
    "df=Renombrar_columna(df,'celular','Telefono')\n",
    "df=Renombrar_columna(df,'correoElectronico','Emails')\n",
    "df.head()"
   ]
  }
 ],
 "metadata": {
  "kernelspec": {
   "display_name": "Python 3.10.7 64-bit",
   "language": "python",
   "name": "python3"
  },
  "language_info": {
   "codemirror_mode": {
    "name": "ipython",
    "version": 3
   },
   "file_extension": ".py",
   "mimetype": "text/x-python",
   "name": "python",
   "nbconvert_exporter": "python",
   "pygments_lexer": "ipython3",
   "version": "3.10.7"
  },
  "orig_nbformat": 4,
  "vscode": {
   "interpreter": {
    "hash": "cea226c4b7750e40aefa8376d6e828465c469294218ee874f1be60b6e31bbb46"
   }
  }
 },
 "nbformat": 4,
 "nbformat_minor": 2
}
